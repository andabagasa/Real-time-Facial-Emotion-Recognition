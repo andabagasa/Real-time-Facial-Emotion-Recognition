{
 "cells": [
  {
   "cell_type": "markdown",
   "metadata": {},
   "source": [
    "### Tugas Akhir Pengolahan Citra Digital dan Visi Komputer\n",
    "\n",
    "**Real-time Facial Emotion Recognition**\n",
    "\n",
    "<hr>\n",
    "\n",
    "Anggota Kelompok:\n",
    "1. Anda Bagas Aprianto (215150200111021)\n",
    "\n",
    "2. Achmad Galih Wicaksana Putra (215150207111028)"
   ]
  },
  {
   "cell_type": "markdown",
   "metadata": {},
   "source": [
    "#### 1. Import Libraries dan Modules"
   ]
  },
  {
   "cell_type": "code",
   "execution_count": 1,
   "metadata": {},
   "outputs": [],
   "source": [
    "import os\n",
    "import cv2\n",
    "import pandas as pd\n",
    "import numpy as np\n",
    "import matplotlib.pyplot as plt\n",
    "import tkinter as tk\n",
    "from tkinter import Label, Button, Frame\n",
    "from PIL import Image, ImageTk\n",
    "from tqdm.notebook import tqdm\n",
    "from sklearn.preprocessing import LabelEncoder\n",
    "from tensorflow.keras.utils import to_categorical\n",
    "from tensorflow.keras.models import Sequential\n",
    "from tensorflow.keras.layers import Dense, Conv2D, Dropout, Flatten, MaxPooling2D\n",
    "from tensorflow.keras.models import model_from_json\n",
    "from tensorflow.keras.preprocessing.image import load_img"
   ]
  },
  {
   "cell_type": "markdown",
   "metadata": {},
   "source": [
    "#### 2. Data Preparation"
   ]
  },
  {
   "cell_type": "code",
   "execution_count": null,
   "metadata": {},
   "outputs": [],
   "source": [
    "# Direktori untuk dataset pelatihan dan pengujian\n",
    "TRAIN_DIR = 'images/train'\n",
    "TEST_DIR = 'images/test'"
   ]
  },
  {
   "cell_type": "code",
   "execution_count": null,
   "metadata": {},
   "outputs": [],
   "source": [
    "# Fungsi untuk membuat dataframe dari direktori dataset\n",
    "def create_dataframe(directory):\n",
    "    image_paths = []\n",
    "    labels = []\n",
    "    for label in os.listdir(directory):\n",
    "        for image_name in os.listdir(os.path.join(directory, label)):\n",
    "            image_paths.append(os.path.join(directory, label, image_name))\n",
    "            labels.append(label)\n",
    "        print(f\"Label {label} selesai.\")\n",
    "    return image_paths, labels"
   ]
  },
  {
   "cell_type": "code",
   "execution_count": null,
   "metadata": {},
   "outputs": [],
   "source": [
    "# Membuat DataFrame untuk data pelatihan\n",
    "train_df = pd.DataFrame()\n",
    "train_df['image'], train_df['label'] = create_dataframe(TRAIN_DIR)\n",
    "print(train_df)"
   ]
  },
  {
   "cell_type": "code",
   "execution_count": null,
   "metadata": {},
   "outputs": [],
   "source": [
    "# Membuat DataFrame untuk data pengujian\n",
    "test_df = pd.DataFrame()\n",
    "test_df['image'], test_df['label'] = create_dataframe(TEST_DIR)\n",
    "print(test_df)"
   ]
  },
  {
   "cell_type": "markdown",
   "metadata": {},
   "source": [
    "#### 3. Data Preprocessing"
   ]
  },
  {
   "cell_type": "code",
   "execution_count": null,
   "metadata": {},
   "outputs": [],
   "source": [
    "# Fungsi untuk ekstraksi fitur gambar\n",
    "def extract_features(image_paths):\n",
    "    features = []\n",
    "    for image_path in tqdm(image_paths):\n",
    "        img = load_img(image_path, color_mode='grayscale')\n",
    "        img = np.array(img)\n",
    "        features.append(img)\n",
    "    features = np.array(features)\n",
    "    features = features.reshape(len(features), 48, 48, 1)\n",
    "    return features"
   ]
  },
  {
   "cell_type": "code",
   "execution_count": null,
   "metadata": {},
   "outputs": [],
   "source": [
    "# Ekstraksi fitur dari data pelatihan dan pengujian\n",
    "train_features = extract_features(train_df['image'])\n",
    "test_features = extract_features(test_df['image'])"
   ]
  },
  {
   "cell_type": "code",
   "execution_count": null,
   "metadata": {},
   "outputs": [],
   "source": [
    "# Normalisasi fitur gambar\n",
    "x_train = train_features / 255.0\n",
    "x_test = test_features / 255.0"
   ]
  },
  {
   "cell_type": "code",
   "execution_count": null,
   "metadata": {},
   "outputs": [],
   "source": [
    "# Label encoding untuk target\n",
    "label_encoder = LabelEncoder()\n",
    "label_encoder.fit(train_df['label'])\n",
    "y_train = label_encoder.transform(train_df['label'])\n",
    "y_test = label_encoder.transform(test_df['label'])\n",
    "\n",
    "# Konversi label ke format one-hot encoding\n",
    "y_train = to_categorical(y_train, num_classes=7)\n",
    "y_test = to_categorical(y_test, num_classes=7)"
   ]
  },
  {
   "cell_type": "markdown",
   "metadata": {},
   "source": [
    "#### 4. Building the Neural Network Model"
   ]
  },
  {
   "cell_type": "code",
   "execution_count": null,
   "metadata": {},
   "outputs": [],
   "source": [
    "# Membuat model sequential\n",
    "model = Sequential()\n",
    "\n",
    "# Lapisan konvolusi pertama\n",
    "model.add(Conv2D(128, kernel_size=(3, 3), activation='relu', input_shape=(48, 48, 1)))\n",
    "model.add(MaxPooling2D(pool_size=(2, 2)))\n",
    "model.add(Dropout(0.4))\n",
    "\n",
    "# Lapisan konvolusi kedua\n",
    "model.add(Conv2D(256, kernel_size=(3, 3), activation='relu'))\n",
    "model.add(MaxPooling2D(pool_size=(2, 2)))\n",
    "model.add(Dropout(0.4))\n",
    "\n",
    "# Lapisan konvolusi ketiga\n",
    "model.add(Conv2D(512, kernel_size=(3, 3), activation='relu'))\n",
    "model.add(MaxPooling2D(pool_size=(2, 2)))\n",
    "model.add(Dropout(0.4))\n",
    "\n",
    "# Lapisan konvolusi keempat\n",
    "model.add(Conv2D(512, kernel_size=(3, 3), activation='relu'))\n",
    "model.add(MaxPooling2D(pool_size=(2, 2)))\n",
    "model.add(Dropout(0.4))\n",
    "\n",
    "# Lapisan flatten untuk mengubah matriks 2D menjadi vektor 1D\n",
    "model.add(Flatten())\n",
    "\n",
    "# Lapisan fully connected pertama\n",
    "model.add(Dense(512, activation='relu'))\n",
    "model.add(Dropout(0.4))\n",
    "\n",
    "# Lapisan fully connected kedua\n",
    "model.add(Dense(256, activation='relu'))\n",
    "model.add(Dropout(0.3))\n",
    "\n",
    "# Lapisan output\n",
    "model.add(Dense(7, activation='softmax'))\n",
    "\n",
    "# Kompilasi model dengan optimizer Adam, loss categorical crossentropy, dan metrik akurasi\n",
    "model.compile(optimizer='adam', loss='categorical_crossentropy', metrics=['accuracy'])\n",
    "\n",
    "# Menampilkan ringkasan arsitektur model\n",
    "model.summary()"
   ]
  },
  {
   "cell_type": "markdown",
   "metadata": {},
   "source": [
    "#### 5. Training and Loading the Model"
   ]
  },
  {
   "cell_type": "code",
   "execution_count": null,
   "metadata": {},
   "outputs": [],
   "source": [
    "# Melatih model dengan data pelatihan\n",
    "model.fit(x=x_train, y=y_train, batch_size=128, epochs=100, validation_data=(x_test, y_test))"
   ]
  },
  {
   "cell_type": "code",
   "execution_count": null,
   "metadata": {},
   "outputs": [],
   "source": [
    "# Menyimpan arsitektur dan bobot model\n",
    "model_json = model.to_json()\n",
    "with open(\"model.json\", 'w') as json_file:\n",
    "    json_file.write(model_json)\n",
    "model.save_weights(\"model.h5\")"
   ]
  },
  {
   "cell_type": "code",
   "execution_count": 2,
   "metadata": {},
   "outputs": [],
   "source": [
    "# Membaca model yang sudah dilatih\n",
    "with open(\"model.json\", \"r\") as json_file:\n",
    "    model_json = json_file.read()\n",
    "model = model_from_json(model_json)\n",
    "model.load_weights(\"model.h5\")"
   ]
  },
  {
   "cell_type": "markdown",
   "metadata": {},
   "source": [
    "#### 6. Making Predictions on Test Images"
   ]
  },
  {
   "cell_type": "code",
   "execution_count": 3,
   "metadata": {},
   "outputs": [],
   "source": [
    "# Daftar label untuk klasifikasi emosi\n",
    "labels = ['angry', 'disgust', 'fear', 'happy', 'neutral', 'sad', 'surprise']\n",
    "\n",
    "# Fungsi untuk ekstraksi fitur dari gambar tunggal\n",
    "def preprocess_image(image_path):\n",
    "    img = load_img(image_path, color_mode='grayscale')\n",
    "    feature = np.array(img)\n",
    "    feature = feature.reshape(1, 48, 48, 1)\n",
    "    return feature / 255.0"
   ]
  },
  {
   "cell_type": "code",
   "execution_count": 4,
   "metadata": {},
   "outputs": [
    {
     "name": "stdout",
     "output_type": "stream",
     "text": [
      "Gambar asli memiliki label: angry\n",
      "\u001b[1m1/1\u001b[0m \u001b[32m━━━━━━━━━━━━━━━━━━━━\u001b[0m\u001b[37m\u001b[0m \u001b[1m0s\u001b[0m 377ms/step\n",
      "Prediksi model: angry\n"
     ]
    },
    {
     "data": {
      "text/plain": [
       "<matplotlib.image.AxesImage at 0x1fa0bcc0da0>"
      ]
     },
     "execution_count": 4,
     "metadata": {},
     "output_type": "execute_result"
    },
    {
     "data": {
      "image/png": "[encoded data removed]",
      "text/plain": [
       "<Figure size 640x480 with 1 Axes>"
      ]
     },
     "metadata": {},
     "output_type": "display_data"
    }
   ],
   "source": [
    "# Tes prediksi pada sebuah gambar berekspresi marah\n",
    "print(\"Gambar asli memiliki label: angry\")\n",
    "img = preprocess_image('images/test/angry/38.jpg')\n",
    "prediction = model.predict(img)\n",
    "predicted_label = labels[prediction.argmax()]\n",
    "print(f\"Prediksi model: {predicted_label}\")\n",
    "plt.imshow(img.reshape(48, 48), cmap='gray')"
   ]
  },
  {
   "cell_type": "code",
   "execution_count": 5,
   "metadata": {},
   "outputs": [
    {
     "name": "stdout",
     "output_type": "stream",
     "text": [
      "Gambar asli memiliki label: disgust\n",
      "\u001b[1m1/1\u001b[0m \u001b[32m━━━━━━━━━━━━━━━━━━━━\u001b[0m\u001b[37m\u001b[0m \u001b[1m0s\u001b[0m 94ms/step\n",
      "Prediksi model: disgust\n"
     ]
    },
    {
     "data": {
      "text/plain": [
       "<matplotlib.image.AxesImage at 0x1fa0bd31400>"
      ]
     },
     "execution_count": 5,
     "metadata": {},
     "output_type": "execute_result"
    },
    {
     "data": {
      "image/png": "[encoded data removed]",
      "text/plain": [
       "<Figure size 640x480 with 1 Axes>"
      ]
     },
     "metadata": {},
     "output_type": "display_data"
    }
   ],
   "source": [
    "# Tes prediksi pada sebuah gambar berekspresi jijik\n",
    "print(\"Gambar asli memiliki label: disgust\")\n",
    "img = preprocess_image('images/test/disgust/3101.jpg')\n",
    "prediction = model.predict(img)\n",
    "predicted_label = labels[prediction.argmax()]\n",
    "print(f\"Prediksi model: {predicted_label}\")\n",
    "plt.imshow(img.reshape(48, 48), cmap='gray')"
   ]
  },
  {
   "cell_type": "code",
   "execution_count": 6,
   "metadata": {},
   "outputs": [
    {
     "name": "stdout",
     "output_type": "stream",
     "text": [
      "Gambar asli memiliki label: fear\n",
      "\u001b[1m1/1\u001b[0m \u001b[32m━━━━━━━━━━━━━━━━━━━━\u001b[0m\u001b[37m\u001b[0m \u001b[1m0s\u001b[0m 137ms/step\n",
      "Prediksi model: fear\n"
     ]
    },
    {
     "data": {
      "text/plain": [
       "<matplotlib.image.AxesImage at 0x1fa0c0d7620>"
      ]
     },
     "execution_count": 6,
     "metadata": {},
     "output_type": "execute_result"
    },
    {
     "data": {
      "image/png": "[encoded data removed]",
      "text/plain": [
       "<Figure size 640x480 with 1 Axes>"
      ]
     },
     "metadata": {},
     "output_type": "display_data"
    }
   ],
   "source": [
    "# Tes prediksi pada sebuah gambar berekspresi takut\n",
    "print(\"Gambar asli memiliki label: fear\")\n",
    "img = preprocess_image('images/test/fear/258.jpg')\n",
    "prediction = model.predict(img)\n",
    "predicted_label = labels[prediction.argmax()]\n",
    "print(f\"Prediksi model: {predicted_label}\")\n",
    "plt.imshow(img.reshape(48, 48), cmap='gray')"
   ]
  },
  {
   "cell_type": "code",
   "execution_count": 7,
   "metadata": {},
   "outputs": [
    {
     "name": "stdout",
     "output_type": "stream",
     "text": [
      "Gambar asli memiliki label: happy\n",
      "\u001b[1m1/1\u001b[0m \u001b[32m━━━━━━━━━━━━━━━━━━━━\u001b[0m\u001b[37m\u001b[0m \u001b[1m0s\u001b[0m 103ms/step\n",
      "Prediksi model: happy\n"
     ]
    },
    {
     "data": {
      "text/plain": [
       "<matplotlib.image.AxesImage at 0x1fa0bbc9220>"
      ]
     },
     "execution_count": 7,
     "metadata": {},
     "output_type": "execute_result"
    },
    {
     "data": {
      "image/png": "[encoded data removed]",
      "text/plain": [
       "<Figure size 640x480 with 1 Axes>"
      ]
     },
     "metadata": {},
     "output_type": "display_data"
    }
   ],
   "source": [
    "# Tes prediksi pada sebuah gambar berekspresi senang\n",
    "print(\"Gambar asli memiliki label: happy\")\n",
    "img = preprocess_image('images/test/happy/325.jpg')\n",
    "prediction = model.predict(img)\n",
    "predicted_label = labels[prediction.argmax()]\n",
    "print(f\"Prediksi model: {predicted_label}\")\n",
    "plt.imshow(img.reshape(48, 48), cmap='gray')"
   ]
  },
  {
   "cell_type": "code",
   "execution_count": 8,
   "metadata": {},
   "outputs": [
    {
     "name": "stdout",
     "output_type": "stream",
     "text": [
      "Gambar asli memiliki label: neutral\n",
      "\u001b[1m1/1\u001b[0m \u001b[32m━━━━━━━━━━━━━━━━━━━━\u001b[0m\u001b[37m\u001b[0m \u001b[1m0s\u001b[0m 51ms/step\n",
      "Prediksi model: neutral\n"
     ]
    },
    {
     "data": {
      "text/plain": [
       "<matplotlib.image.AxesImage at 0x1fa0c1c2510>"
      ]
     },
     "execution_count": 8,
     "metadata": {},
     "output_type": "execute_result"
    },
    {
     "data": {
      "image/png": "[encoded data removed]",
      "text/plain": [
       "<Figure size 640x480 with 1 Axes>"
      ]
     },
     "metadata": {},
     "output_type": "display_data"
    }
   ],
   "source": [
    "# Tes prediksi pada sebuah gambar berekspresi netral\n",
    "print(\"Gambar asli memiliki label: neutral\")\n",
    "img = preprocess_image('images/test/neutral/35484.jpg')\n",
    "prediction = model.predict(img)\n",
    "predicted_label = labels[prediction.argmax()]\n",
    "print(f\"Prediksi model: {predicted_label}\")\n",
    "plt.imshow(img.reshape(48, 48), cmap='gray')"
   ]
  },
  {
   "cell_type": "code",
   "execution_count": 9,
   "metadata": {},
   "outputs": [
    {
     "name": "stdout",
     "output_type": "stream",
     "text": [
      "Gambar asli memiliki label: sad\n",
      "\u001b[1m1/1\u001b[0m \u001b[32m━━━━━━━━━━━━━━━━━━━━\u001b[0m\u001b[37m\u001b[0m \u001b[1m0s\u001b[0m 51ms/step\n",
      "Prediksi model: sad\n"
     ]
    },
    {
     "data": {
      "text/plain": [
       "<matplotlib.image.AxesImage at 0x1fa0c800440>"
      ]
     },
     "execution_count": 9,
     "metadata": {},
     "output_type": "execute_result"
    },
    {
     "data": {
      "image/png": "[encoded data removed]",
      "text/plain": [
       "<Figure size 640x480 with 1 Axes>"
      ]
     },
     "metadata": {},
     "output_type": "display_data"
    }
   ],
   "source": [
    "# Tes prediksi pada sebuah gambar berekspresi sedih\n",
    "print(\"Gambar asli memiliki label: sad\")\n",
    "img = preprocess_image('images/test/sad/231.jpg')\n",
    "prediction = model.predict(img)\n",
    "predicted_label = labels[prediction.argmax()]\n",
    "print(f\"Prediksi model: {predicted_label}\")\n",
    "plt.imshow(img.reshape(48, 48), cmap='gray')"
   ]
  },
  {
   "cell_type": "code",
   "execution_count": 10,
   "metadata": {},
   "outputs": [
    {
     "name": "stdout",
     "output_type": "stream",
     "text": [
      "Gambar asli memiliki label: surprise\n",
      "\u001b[1m1/1\u001b[0m \u001b[32m━━━━━━━━━━━━━━━━━━━━\u001b[0m\u001b[37m\u001b[0m \u001b[1m0s\u001b[0m 85ms/step\n",
      "Prediksi model: surprise\n"
     ]
    },
    {
     "data": {
      "text/plain": [
       "<matplotlib.image.AxesImage at 0x1fa0c10e600>"
      ]
     },
     "execution_count": 10,
     "metadata": {},
     "output_type": "execute_result"
    },
    {
     "data": {
      "image/png": "[encoded data removed]",
      "text/plain": [
       "<Figure size 640x480 with 1 Axes>"
      ]
     },
     "metadata": {},
     "output_type": "display_data"
    }
   ],
   "source": [
    "# Tes prediksi pada sebuah gambar berekspresi terkejut\n",
    "print(\"Gambar asli memiliki label: surprise\")\n",
    "img = preprocess_image('images/test/surprise/1176.jpg')\n",
    "prediction = model.predict(img)\n",
    "predicted_label = labels[prediction.argmax()]\n",
    "print(f\"Prediksi model: {predicted_label}\")\n",
    "plt.imshow(img.reshape(48, 48), cmap='gray')"
   ]
  },
  {
   "cell_type": "markdown",
   "metadata": {},
   "source": [
    "#### 7. Making the Model Real Time"
   ]
  },
  {
   "cell_type": "code",
   "execution_count": 11,
   "metadata": {},
   "outputs": [],
   "source": [
    "# Menggunakan file Haar Cascade untuk deteksi wajah\n",
    "haar_cascade_path = cv2.data.haarcascades + 'haarcascade_frontalface_default.xml'\n",
    "face_cascade = cv2.CascadeClassifier(haar_cascade_path)"
   ]
  },
  {
   "cell_type": "code",
   "execution_count": 12,
   "metadata": {},
   "outputs": [],
   "source": [
    "# Fungsi untuk ekstraksi fitur dari wajah\n",
    "def extract_face_features(face_image):\n",
    "    face_array = np.array(face_image)\n",
    "    face_array = face_array.reshape(1, 48, 48, 1)\n",
    "    return face_array / 255.0"
   ]
  },
  {
   "cell_type": "code",
   "execution_count": null,
   "metadata": {},
   "outputs": [],
   "source": [
    "# Buka kamera\n",
    "camera = cv2.VideoCapture(0)\n",
    "\n",
    "# Daftar label untuk emosi\n",
    "emotion_labels = {0: 'angry', 1: 'disgust', 2: 'fear', 3: 'happy', 4: 'neutral', 5: 'sad', 6: 'surprise'}\n",
    "\n",
    "while True:\n",
    "    # Membaca frame dari kamera\n",
    "    ret, frame = camera.read()\n",
    "    gray_frame = cv2.cvtColor(frame, cv2.COLOR_BGR2GRAY)\n",
    "\n",
    "    # Deteksi wajah\n",
    "    detected_faces = face_cascade.detectMultiScale(gray_frame, scaleFactor=1.2, minNeighbors=5)\n",
    "\n",
    "    for (x, y, w, h) in detected_faces:\n",
    "        # Ambil ROI wajah\n",
    "        face_roi = gray_frame[y:y + h, x:x + w]\n",
    "\n",
    "        # Gambar kotak di sekitar wajah\n",
    "        cv2.rectangle(frame, (x, y), (x + w, y + h), (0, 255, 0), 2)\n",
    "\n",
    "        # Ubah ukuran wajah ke ukuran 48x48\n",
    "        resized_face = cv2.resize(face_roi, (48, 48))\n",
    "\n",
    "        # Ekstrak fitur dan prediksi emosi\n",
    "        face_features = extract_face_features(resized_face)\n",
    "        prediction = model.predict(face_features)\n",
    "        predicted_label_idx = prediction.argmax()\n",
    "        emotion = emotion_labels[predicted_label_idx]\n",
    "\n",
    "        # Hitung confidence level\n",
    "        confidence_level = prediction[0][predicted_label_idx] * 100\n",
    "\n",
    "        # Tampilkan emosi di atas kotak wajah\n",
    "        cv2.putText(frame, f'{emotion} ({confidence_level:.2f}%)', (x, y - 10), cv2.FONT_HERSHEY_SIMPLEX, 0.7, (0, 255, 0), 2)\n",
    "\n",
    "    # Tampilkan frame\n",
    "    cv2.imshow(\"Real-time Facial Emotion Recognition\", frame)\n",
    "\n",
    "    # Tekan tombol ESC untuk keluar\n",
    "    if cv2.waitKey(1) & 0xFF == 27:\n",
    "        break\n",
    "\n",
    "# Bebaskan kamera dan tutup jendela\n",
    "camera.release()\n",
    "cv2.destroyAllWindows()"
   ]
  },
  {
   "cell_type": "markdown",
   "metadata": {},
   "source": [
    "#### 8. Real-time Facial Emotion Recognition with GUI"
   ]
  },
  {
   "cell_type": "code",
   "execution_count": 11,
   "metadata": {},
   "outputs": [
    {
     "name": "stdout",
     "output_type": "stream",
     "text": [
      "\u001b[1m1/1\u001b[0m \u001b[32m━━━━━━━━━━━━━━━━━━━━\u001b[0m\u001b[37m\u001b[0m \u001b[1m0s\u001b[0m 236ms/step\n",
      "\u001b[1m1/1\u001b[0m \u001b[32m━━━━━━━━━━━━━━━━━━━━\u001b[0m\u001b[37m\u001b[0m \u001b[1m0s\u001b[0m 91ms/step\n",
      "\u001b[1m1/1\u001b[0m \u001b[32m━━━━━━━━━━━━━━━━━━━━\u001b[0m\u001b[37m\u001b[0m \u001b[1m0s\u001b[0m 92ms/step\n",
      "\u001b[1m1/1\u001b[0m \u001b[32m━━━━━━━━━━━━━━━━━━━━\u001b[0m\u001b[37m\u001b[0m \u001b[1m0s\u001b[0m 80ms/step\n",
      "\u001b[1m1/1\u001b[0m \u001b[32m━━━━━━━━━━━━━━━━━━━━\u001b[0m\u001b[37m\u001b[0m \u001b[1m0s\u001b[0m 80ms/step\n",
      "\u001b[1m1/1\u001b[0m \u001b[32m━━━━━━━━━━━━━━━━━━━━\u001b[0m\u001b[37m\u001b[0m \u001b[1m0s\u001b[0m 101ms/step\n",
      "\u001b[1m1/1\u001b[0m \u001b[32m━━━━━━━━━━━━━━━━━━━━\u001b[0m\u001b[37m\u001b[0m \u001b[1m0s\u001b[0m 88ms/step\n",
      "\u001b[1m1/1\u001b[0m \u001b[32m━━━━━━━━━━━━━━━━━━━━\u001b[0m\u001b[37m\u001b[0m \u001b[1m0s\u001b[0m 120ms/step\n",
      "\u001b[1m1/1\u001b[0m \u001b[32m━━━━━━━━━━━━━━━━━━━━\u001b[0m\u001b[37m\u001b[0m \u001b[1m0s\u001b[0m 101ms/step\n",
      "\u001b[1m1/1\u001b[0m \u001b[32m━━━━━━━━━━━━━━━━━━━━\u001b[0m\u001b[37m\u001b[0m \u001b[1m0s\u001b[0m 98ms/step\n",
      "\u001b[1m1/1\u001b[0m \u001b[32m━━━━━━━━━━━━━━━━━━━━\u001b[0m\u001b[37m\u001b[0m \u001b[1m0s\u001b[0m 88ms/step\n",
      "\u001b[1m1/1\u001b[0m \u001b[32m━━━━━━━━━━━━━━━━━━━━\u001b[0m\u001b[37m\u001b[0m \u001b[1m0s\u001b[0m 90ms/step\n",
      "\u001b[1m1/1\u001b[0m \u001b[32m━━━━━━━━━━━━━━━━━━━━\u001b[0m\u001b[37m\u001b[0m \u001b[1m0s\u001b[0m 83ms/step\n",
      "\u001b[1m1/1\u001b[0m \u001b[32m━━━━━━━━━━━━━━━━━━━━\u001b[0m\u001b[37m\u001b[0m \u001b[1m0s\u001b[0m 85ms/step\n",
      "\u001b[1m1/1\u001b[0m \u001b[32m━━━━━━━━━━━━━━━━━━━━\u001b[0m\u001b[37m\u001b[0m \u001b[1m0s\u001b[0m 72ms/step\n",
      "\u001b[1m1/1\u001b[0m \u001b[32m━━━━━━━━━━━━━━━━━━━━\u001b[0m\u001b[37m\u001b[0m \u001b[1m0s\u001b[0m 71ms/step\n",
      "\u001b[1m1/1\u001b[0m \u001b[32m━━━━━━━━━━━━━━━━━━━━\u001b[0m\u001b[37m\u001b[0m \u001b[1m0s\u001b[0m 63ms/step\n",
      "\u001b[1m1/1\u001b[0m \u001b[32m━━━━━━━━━━━━━━━━━━━━\u001b[0m\u001b[37m\u001b[0m \u001b[1m0s\u001b[0m 80ms/step\n",
      "\u001b[1m1/1\u001b[0m \u001b[32m━━━━━━━━━━━━━━━━━━━━\u001b[0m\u001b[37m\u001b[0m \u001b[1m0s\u001b[0m 72ms/step\n",
      "\u001b[1m1/1\u001b[0m \u001b[32m━━━━━━━━━━━━━━━━━━━━\u001b[0m\u001b[37m\u001b[0m \u001b[1m0s\u001b[0m 72ms/step\n",
      "\u001b[1m1/1\u001b[0m \u001b[32m━━━━━━━━━━━━━━━━━━━━\u001b[0m\u001b[37m\u001b[0m \u001b[1m0s\u001b[0m 81ms/step\n"
     ]
    }
   ],
   "source": [
    "# Fungsi untuk membuka model\n",
    "def load_model():\n",
    "    with open(\"model.json\", \"r\") as json_file:\n",
    "        model_json = json_file.read()\n",
    "    model = model_from_json(model_json)\n",
    "    model.load_weights(\"model.h5\")\n",
    "    return model\n",
    "\n",
    "# Fungsi untuk menampilkan frame dari kamera dan mendeteksi emosi\n",
    "def show_frame():\n",
    "    # Baca frame dari kamera\n",
    "    ret, frame = camera.read()\n",
    "    if not ret:\n",
    "        return\n",
    "    \n",
    "    # Konversi ke grayscale untuk deteksi wajah\n",
    "    gray_frame = cv2.cvtColor(frame, cv2.COLOR_BGR2GRAY)\n",
    "    detected_faces = face_cascade.detectMultiScale(gray_frame, scaleFactor=1.2, minNeighbors=5)\n",
    "\n",
    "    # Proses setiap wajah yang terdeteksi\n",
    "    for (x, y, w, h) in detected_faces:\n",
    "        face_roi = gray_frame[y:y + h, x:x + w]\n",
    "        cv2.rectangle(frame, (x, y), (x + w, y + h), (0, 255, 0), 2)\n",
    "\n",
    "        # Resize wajah untuk model\n",
    "        resized_face = cv2.resize(face_roi, (48, 48))\n",
    "        face_features = extract_face_features(resized_face)\n",
    "        prediction = model.predict(face_features)\n",
    "        predicted_label_idx = prediction.argmax()\n",
    "        emotion = emotion_labels[predicted_label_idx]\n",
    "        confidence_level = prediction[0][predicted_label_idx] * 100\n",
    "\n",
    "        # Tampilkan emosi pada frame\n",
    "        cv2.putText(frame, f'{emotion} ({confidence_level:.2f}%)', (x, y - 10), cv2.FONT_HERSHEY_SIMPLEX, 0.7, (0, 255, 0), 2)\n",
    "\n",
    "    # Konversi frame ke format yang dapat ditampilkan pada tkinter\n",
    "    frame_rgb = cv2.cvtColor(frame, cv2.COLOR_BGR2RGB)\n",
    "    image = Image.fromarray(frame_rgb)\n",
    "    image = ImageTk.PhotoImage(image)\n",
    "    \n",
    "    # Update label dengan gambar terbaru\n",
    "    label_image.config(image=image)\n",
    "    label_image.image = image\n",
    "    \n",
    "    # Lanjutkan menampilkan frame\n",
    "    if camera_on:\n",
    "        window.after(10, show_frame)\n",
    "\n",
    "# Fungsi untuk memulai kamera\n",
    "def start_camera():\n",
    "    global camera_on\n",
    "    camera_on = True\n",
    "    start_button.config(state=tk.DISABLED)\n",
    "    stop_button.config(state=tk.NORMAL)\n",
    "    exit_button.config(state=tk.DISABLED)\n",
    "    show_frame()\n",
    "\n",
    "# Fungsi untuk berhenti menampilkan kamera\n",
    "def stop_camera():\n",
    "    global camera_on\n",
    "    camera_on = False\n",
    "    start_button.config(state=tk.NORMAL)\n",
    "    stop_button.config(state=tk.DISABLED)\n",
    "    exit_button.config(state=tk.NORMAL)\n",
    "\n",
    "    # Menyembunyikan layar kamera setelah stop\n",
    "    label_image.config(image='')\n",
    "\n",
    "# Fungsi untuk keluar dari program (menutup semua dan mematikan kamera)\n",
    "def exit_program():\n",
    "    global camera_on\n",
    "    camera_on = False\n",
    "    camera.release()\n",
    "    window.quit()\n",
    "\n",
    "# Inisialisasi model dan cascade wajah\n",
    "model = load_model()\n",
    "haar_cascade_path = cv2.data.haarcascades + 'haarcascade_frontalface_default.xml'\n",
    "face_cascade = cv2.CascadeClassifier(haar_cascade_path)\n",
    "\n",
    "# Fungsi untuk ekstraksi fitur dari wajah\n",
    "def extract_face_features(face_image):\n",
    "    face_array = np.array(face_image)\n",
    "    face_array = face_array.reshape(1, 48, 48, 1)\n",
    "    return face_array / 255.0\n",
    "\n",
    "# Daftar label untuk emosi\n",
    "emotion_labels = {0: 'angry', 1: 'disgust', 2: 'fear', 3: 'happy', 4: 'neutral', 5: 'sad', 6: 'surprise'}\n",
    "\n",
    "# Membuka kamera\n",
    "camera = cv2.VideoCapture(0)\n",
    "\n",
    "# Inisialisasi Tkinter\n",
    "window = tk.Tk()\n",
    "window.title(\"Real-time Facial Emotion Recognition\")\n",
    "\n",
    "# Set ukuran jendela\n",
    "window.geometry(\"800x600\")\n",
    "\n",
    "# Ubah latar belakang jendela menjadi putih\n",
    "window.config(bg=\"white\")\n",
    "\n",
    "# Frame untuk konten utama\n",
    "main_frame = Frame(window, bg=\"white\")\n",
    "main_frame.pack(padx=20, pady=20, expand=True, fill=tk.BOTH)\n",
    "\n",
    "# Label untuk menampilkan video\n",
    "label_image = Label(main_frame)\n",
    "label_image.pack(pady=20)\n",
    "\n",
    "# Label Judul Aplikasi\n",
    "title_label = Label(main_frame, text=\"Real-time Facial Emotion Recognition\", font=(\"Helvetica\", 18, 'bold'), fg=\"black\", bg=\"white\")\n",
    "title_label.pack(pady=20)\n",
    "\n",
    "# Frame untuk tombol\n",
    "button_frame = Frame(main_frame, bg=\"white\")\n",
    "button_frame.pack(pady=10)\n",
    "\n",
    "# Tombol start\n",
    "start_button = Button(button_frame, text=\"Start Camera\", width=20, height=2, command=start_camera, font=(\"Helvetica\", 14), bg=\"#27AE60\", fg=\"white\", relief=\"raised\")\n",
    "start_button.grid(row=0, column=0, padx=10)\n",
    "\n",
    "# Tombol stop\n",
    "stop_button = Button(button_frame, text=\"Stop Camera\", width=20, height=2, command=stop_camera, font=(\"Helvetica\", 14), bg=\"#E74C3C\", fg=\"white\", relief=\"raised\", state=tk.DISABLED)\n",
    "stop_button.grid(row=0, column=1, padx=10)\n",
    "\n",
    "# Tombol exit\n",
    "exit_button = Button(button_frame, text=\"Exit\", width=20, height=2, command=exit_program, font=(\"Helvetica\", 14), bg=\"#F1C40F\", fg=\"black\", relief=\"raised\")\n",
    "exit_button.grid(row=1, column=0, columnspan=2, pady=20)\n",
    "\n",
    "# Variabel untuk menandakan status kamera\n",
    "camera_on = False\n",
    "\n",
    "# Menjalankan aplikasi Tkinter\n",
    "window.protocol(\"WM_DELETE_WINDOW\", exit_program)  # Menangani keluar dengan tombol X\n",
    "window.mainloop()\n",
    "\n",
    "# Melepaskan kamera setelah keluar\n",
    "camera.release()"
   ]
  }
 ],
 "metadata": {
  "kernelspec": {
   "display_name": ".venv",
   "language": "python",
   "name": "python3"
  },
  "language_info": {
   "codemirror_mode": {
    "name": "ipython",
    "version": 3
   },
   "file_extension": ".py",
   "mimetype": "text/x-python",
   "name": "python",
   "nbconvert_exporter": "python",
   "pygments_lexer": "ipython3",
   "version": "3.12.8"
  }
 },
 "nbformat": 4,
 "nbformat_minor": 2
}
